{
 "cells": [
  {
   "cell_type": "code",
   "execution_count": 1,
   "metadata": {},
   "outputs": [
    {
     "name": "stdout",
     "output_type": "stream",
     "text": [
      "Enter rook column:\n",
      "1\n",
      "Enter rook row:\n",
      "1\n",
      "Enter destination column:\n",
      "1\n",
      "Enter destination row:\n",
      "1\n",
      "YES\n"
     ]
    }
   ],
   "source": [
    "print(\"Enter rook column:\")\n",
    "c1 = int(input())\n",
    "print(\"Enter rook row:\")\n",
    "r1 = int(input())\n",
    "print(\"Enter destination column:\")\n",
    "c2 = int(input())\n",
    "print(\"Enter destination row:\")\n",
    "r2 = int(input())\n",
    "\n",
    "if (r1 == r2 or c1 == c2):\n",
    "    print(\"YES\")\n",
    "else:\n",
    "    print(\"NO\")"
   ]
  },
  {
   "cell_type": "code",
   "execution_count": 2,
   "metadata": {},
   "outputs": [
    {
     "name": "stdout",
     "output_type": "stream",
     "text": [
      "Enter king column:\n",
      "1\n",
      "Enter king row:\n",
      "1\n",
      "Enter destination column:\n",
      "1\n",
      "Enter destination row:\n",
      "1\n",
      "YES\n"
     ]
    }
   ],
   "source": [
    "import math\n",
    "\n",
    "print(\"Enter king column:\")\n",
    "c1 = int(input())\n",
    "print(\"Enter king row:\")\n",
    "r1 = int(input())\n",
    "print(\"Enter destination column:\")\n",
    "c2 = int(input())\n",
    "print(\"Enter destination row:\")\n",
    "r2 = int(input())\n",
    "\n",
    "if (math.fabs(r1 - r2) < 2 \n",
    "        and math.fabs(c1 - c2 < 2)):\n",
    "    print(\"YES\")\n",
    "else:\n",
    "    print(\"NO\")"
   ]
  },
  {
   "cell_type": "code",
   "execution_count": 3,
   "metadata": {},
   "outputs": [
    {
     "name": "stdout",
     "output_type": "stream",
     "text": [
      "Enter bishop column:\n",
      "1\n",
      "Enter bishop row:\n",
      "1\n",
      "Enter destination column:\n",
      "1\n",
      "Enter destination row:\n",
      "1\n",
      "YES\n"
     ]
    }
   ],
   "source": [
    "import math\n",
    "\n",
    "print(\"Enter bishop column:\")\n",
    "c1 = int(input())\n",
    "print(\"Enter bishop row:\")\n",
    "r1 = int(input())\n",
    "print(\"Enter destination column:\")\n",
    "c2 = int(input())\n",
    "print(\"Enter destination row:\")\n",
    "r2 = int(input())\n",
    "\n",
    "if (math.fabs(r1 - r2) == math.fabs(c1 - c2)):\n",
    "    print(\"YES\")\n",
    "else:\n",
    "    print(\"NO\")"
   ]
  },
  {
   "cell_type": "code",
   "execution_count": 5,
   "metadata": {},
   "outputs": [
    {
     "name": "stdout",
     "output_type": "stream",
     "text": [
      "Enter queen column:\n",
      "6\n",
      "Enter queen row:\n",
      "6\n",
      "Enter destination column:\n",
      "6\n",
      "Enter destination row:\n",
      "6\n",
      "YES\n"
     ]
    }
   ],
   "source": [
    "import math\n",
    "\n",
    "print(\"Enter queen column:\")\n",
    "c1 = int(input())\n",
    "print(\"Enter queen row:\")\n",
    "r1 = int(input())\n",
    "print(\"Enter destination column:\")\n",
    "c2 = int(input())\n",
    "print(\"Enter destination row:\")\n",
    "r2 = int(input())\n",
    "\n",
    "if (math.fabs(r1 - r2) == math.fabs(c1 - c2)\n",
    "        or (r1 == r2 or c1 == c2)):\n",
    "    print(\"YES\")\n",
    "else:\n",
    "    print(\"NO\")"
   ]
  },
  {
   "cell_type": "code",
   "execution_count": null,
   "metadata": {},
   "outputs": [],
   "source": [
    "import math\n",
    "\n",
    "print(\"Enter knight column:\")\n",
    "c1 = int(input())\n",
    "print(\"Enter knight row:\")\n",
    "r1 = int(input())\n",
    "print(\"Enter destination column:\")\n",
    "c2 = int(input())\n",
    "print(\"Enter destination row:\")\n",
    "r2 = int(input())\n",
    "\n",
    "if ((math.fabs(r1 - r2) == 2\n",
    "            and math.fabs(c1 - c2) == 1)\n",
    "        or (math.fabs(r1 - r2) == 1 \n",
    "            and math.fabs(c1 - c2) == 2)):\n",
    "    print(\"YES\")\n",
    "else:\n",
    "    print(\"NO\")"
   ]
  },
  {
   "cell_type": "code",
   "execution_count": null,
   "metadata": {},
   "outputs": [],
   "source": [
    "print(\"Enter length:\"),\n",
    "q = int(input())\n",
    "print(\"\\nEnter width:\"),\n",
    "w = int(input())\n",
    "print(\"\\nEnter distance to long side:\"),\n",
    "e = int(input())\n",
    "print(\"\\nEnter distance to short side:\"),\n",
    "r = int(input())\n",
    "\n",
    "long = 0\n",
    "short = 0\n",
    "\n",
    "if (q > w):\n",
    "    long = q\n",
    "    short = w\n",
    "else:\n",
    "    long = w\n",
    "    short = q\n",
    "\n",
    "if (long - e > e):\n",
    "    long = e\n",
    "else:\n",
    "    long = long - e\n",
    "    \n",
    "if (short - r > r):\n",
    "    short = r\n",
    "else:\n",
    "    short = short - r\n",
    "\n",
    "distance = 0\n",
    "\n",
    "if (short > long):\n",
    "    distance = long\n",
    "else:\n",
    "    distance = short\n",
    "\n",
    "print(\"distance =\", distance)"
   ]
  },
  {
   "cell_type": "code",
   "execution_count": null,
   "metadata": {},
   "outputs": [],
   "source": [
    "numbers = []\n",
    "\n",
    "print(\"Enter first number:\")\n",
    "numbers.append(int(input()))\n",
    "print(\"Enter second number:\")\n",
    "numbers.append(int(input()))\n",
    "print(\"Enter third number:\")\n",
    "numbers.append(int(input()))\n",
    "\n",
    "numbers.sort()\n",
    "\n",
    "for i in numbers:\n",
    "    print(i, end=' '),"
   ]
  },
  {
   "cell_type": "code",
   "execution_count": null,
   "metadata": {},
   "outputs": [],
   "source": [
    "box1= []\n",
    "box2 = []\n",
    "print(\"Enter first box length\")\n",
    "box1.append(int(input()))\n",
    "print(\"Enter first box wigth\")\n",
    "box1.append(int(input()))\n",
    "print(\"Enter first box height\")\n",
    "box1.append(int(input()))\n",
    "print(\"Enter second box length\")\n",
    "box2.append(int(input()))\n",
    "print(\"Enter second box wigth\")\n",
    "box2.append(int(input()))\n",
    "print(\"Enter second box height\")\n",
    "box2.append(int(input()))\n",
    "\n",
    "if (box1[0] < box2[0]\n",
    "       and box1[1] < box2[1]\n",
    "       and box1[2] < box2[2]):\n",
    "    print(\"the first box is smaller than the second one\")\n",
    "elif (box1[0] > box2[0]\n",
    "       and box1[1] > box2[1]\n",
    "       and box1[2] > box2[2]):\n",
    "    print(\"the first box is larger than the second one\")\n",
    "elif (box1[0] == box[0]\n",
    "       and box1[1] == box2[1]\n",
    "       and box1[2] == box2[2]):\n",
    "    print(\"Boxes are equal\")\n",
    "else:\n",
    "    print(\"Boxes are incomparable\")"
   ]
  },
  {
   "cell_type": "code",
   "execution_count": 8,
   "metadata": {},
   "outputs": [
    {
     "name": "stdout",
     "output_type": "stream",
     "text": [
      "Enter number\n",
      "50\n",
      "1\n",
      "4\n",
      "9\n",
      "16\n",
      "25\n",
      "36\n",
      "49\n"
     ]
    }
   ],
   "source": [
    "print(\"Enter number\")\n",
    "num = int(input())\n",
    "i = 1\n",
    "while (i * i < num):\n",
    "    print(i * i)\n",
    "    i+=1"
   ]
  },
  {
   "cell_type": "code",
   "execution_count": 12,
   "metadata": {},
   "outputs": [
    {
     "name": "stdout",
     "output_type": "stream",
     "text": [
      "Enter number\n",
      "49\n",
      "7\n"
     ]
    }
   ],
   "source": [
    "print(\"Enter number\")\n",
    "n = int(input())\n",
    "\n",
    "if (n % 2 == 0): \n",
    "    print(2)\n",
    "else:\n",
    "    i = 3\n",
    "    while(i * i <= n): \n",
    "        if (n % i == 0): \n",
    "            print(i)\n",
    "            break\n",
    "        i += 2"
   ]
  },
  {
   "cell_type": "code",
   "execution_count": 14,
   "metadata": {},
   "outputs": [
    {
     "name": "stdout",
     "output_type": "stream",
     "text": [
      "Enter number\n",
      "50\n",
      "1\n",
      "2\n",
      "4\n",
      "8\n",
      "16\n",
      "32\n"
     ]
    }
   ],
   "source": [
    "print(\"Enter number\")\n",
    "n = int(input())\n",
    "\n",
    "i = 1\n",
    "while(i <= n): \n",
    "    print(i)\n",
    "    i *= 2"
   ]
  },
  {
   "cell_type": "code",
   "execution_count": 16,
   "metadata": {},
   "outputs": [
    {
     "name": "stdout",
     "output_type": "stream",
     "text": [
      "Enter number\n",
      "1\n",
      "Enter number\n",
      "2\n",
      "Enter number\n",
      "3\n",
      "Enter number\n",
      "4\n",
      "Enter number\n",
      "5\n",
      "Enter number\n",
      "6\n",
      "Enter number\n",
      "7\n",
      "Enter number\n",
      "0\n",
      "28\n"
     ]
    }
   ],
   "source": [
    "i = 1\n",
    "sum = 0\n",
    "while (i != 0):\n",
    "    print(\"Enter number\")\n",
    "    i = int(input())\n",
    "    sum += i\n",
    "print(sum)"
   ]
  },
  {
   "cell_type": "code",
   "execution_count": 19,
   "metadata": {},
   "outputs": [
    {
     "name": "stdout",
     "output_type": "stream",
     "text": [
      "Enter number\n",
      "1\n",
      "Enter number\n",
      "5\n",
      "Enter number\n",
      "2\n",
      "Enter number\n",
      "4\n",
      "Enter number\n",
      "5\n",
      "Enter number\n",
      "0\n",
      "2\n"
     ]
    }
   ],
   "source": [
    "i = 1\n",
    "largest = 0\n",
    "answer = 1\n",
    "while (i != 0):\n",
    "    print(\"Enter number\")\n",
    "    i = int(input())\n",
    "    if (i > largest):\n",
    "        largest = i\n",
    "        answer = 1\n",
    "    elif (i == largest):\n",
    "        answer += 1\n",
    "print(answer)"
   ]
  },
  {
   "cell_type": "code",
   "execution_count": null,
   "metadata": {},
   "outputs": [],
   "source": [
    "def smallestDivisor(n): \n",
    "  \n",
    "    # if divisible by 2 \n",
    "    if (n % 2 == 0): \n",
    "        return 2; \n",
    "  \n",
    "    # iterate from 3 to sqrt(n) \n",
    "    i = 3;  \n",
    "    while(i * i <= n): \n",
    "        if (n % i == 0): \n",
    "            return i; \n",
    "        i += 2; \n",
    "  \n",
    "    return n;"
   ]
  }
 ],
 "metadata": {
  "kernelspec": {
   "display_name": "Python 3",
   "language": "python",
   "name": "python3"
  },
  "language_info": {
   "codemirror_mode": {
    "name": "ipython",
    "version": 3
   },
   "file_extension": ".py",
   "mimetype": "text/x-python",
   "name": "python",
   "nbconvert_exporter": "python",
   "pygments_lexer": "ipython3",
   "version": "3.8.3"
  }
 },
 "nbformat": 4,
 "nbformat_minor": 4
}
