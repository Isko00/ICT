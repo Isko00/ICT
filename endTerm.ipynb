{
 "cells": [
  {
   "cell_type": "code",
   "execution_count": 8,
   "metadata": {},
   "outputs": [
    {
     "name": "stdout",
     "output_type": "stream",
     "text": [
      "sevenkplus\n",
      "CHAT WITH HER!\n"
     ]
    }
   ],
   "source": [
    "s = input()\n",
    "mySet = set()\n",
    "for i in s:\n",
    "    mySet.add(i)\n",
    "if (len(mySet) % 2 == 0):\n",
    "    print('CHAT WITH HER!')\n",
    "else:\n",
    "    print('IGNORE HIM!')"
   ]
  },
  {
   "cell_type": "code",
   "execution_count": 19,
   "metadata": {},
   "outputs": [
    {
     "name": "stdout",
     "output_type": "stream",
     "text": [
      "10\n",
      "3\n"
     ]
    }
   ],
   "source": [
    "s = int(input())\n",
    "cnt = 0\n",
    "for i in range(1, s):\n",
    "    if ((s - i) % i == 0):\n",
    "#        print('choose', i, 'employee as a team leader with', \n",
    "#              int((s-i)/i), 'employees under the responsibility of each of them.')\n",
    "        cnt += 1\n",
    "print(cnt)"
   ]
  },
  {
   "cell_type": "code",
   "execution_count": 29,
   "metadata": {},
   "outputs": [
    {
     "name": "stdout",
     "output_type": "stream",
     "text": [
      "1111000\n",
      "0\n"
     ]
    }
   ],
   "source": [
    "s = input()\n",
    "last = -1\n",
    "cnt = 0\n",
    "for i in range(len(s)):\n",
    "    if (int(s[i]) == 1):\n",
    "        if (last != -1):\n",
    "            cnt += i - last - 1\n",
    "        last = i\n",
    "print(cnt)"
   ]
  },
  {
   "cell_type": "code",
   "execution_count": 55,
   "metadata": {},
   "outputs": [
    {
     "name": "stdout",
     "output_type": "stream",
     "text": [
      "1987\n",
      "2013\n"
     ]
    }
   ],
   "source": [
    "s = str(int(input()) + 1)\n",
    "while(len(s) != len(set(s))):\n",
    "    s = str(int(s) + 1)\n",
    "print(s)"
   ]
  },
  {
   "cell_type": "code",
   "execution_count": 65,
   "metadata": {},
   "outputs": [
    {
     "name": "stdout",
     "output_type": "stream",
     "text": [
      "6 12\n",
      "2\n"
     ]
    }
   ],
   "source": [
    "nums = input().split(' ')\n",
    "cnt = 0\n",
    "for i in range(int(nums[0])):\n",
    "    for j in range(int(nums[0])):\n",
    "        if (i * j == int(nums[1])):\n",
    "            cnt += 1\n",
    "print(cnt)"
   ]
  }
 ],
 "metadata": {
  "kernelspec": {
   "display_name": "Python 3",
   "language": "python",
   "name": "python3"
  },
  "language_info": {
   "codemirror_mode": {
    "name": "ipython",
    "version": 3
   },
   "file_extension": ".py",
   "mimetype": "text/x-python",
   "name": "python",
   "nbconvert_exporter": "python",
   "pygments_lexer": "ipython3",
   "version": "3.8.3"
  }
 },
 "nbformat": 4,
 "nbformat_minor": 4
}
