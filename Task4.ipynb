{
 "cells": [
  {
   "cell_type": "code",
   "execution_count": 11,
   "metadata": {},
   "outputs": [],
   "source": [
    "def reverseLookup(myDict, value):\n",
    "    answer = []\n",
    "    for i in list(myDict.keys()):\n",
    "        if (myDict[i] == value):\n",
    "            answer.append(i)\n",
    "    return answer"
   ]
  },
  {
   "cell_type": "code",
   "execution_count": 17,
   "metadata": {},
   "outputs": [
    {
     "name": "stdout",
     "output_type": "stream",
     "text": [
      "[]\n",
      "['brand']\n",
      "['model', 'year']\n"
     ]
    }
   ],
   "source": [
    "myDict = {\n",
    "  \"brand\": \"Ford\",\n",
    "  \"model\": 1964,\n",
    "  \"year\": 1964\n",
    "}\n",
    "print(reverseLookup(myDict, 1))\n",
    "print(reverseLookup(myDict, \"Ford\"))\n",
    "print(reverseLookup(myDict, 1964))"
   ]
  },
  {
   "cell_type": "code",
   "execution_count": 51,
   "metadata": {},
   "outputs": [],
   "source": [
    "import random\n",
    "def getDiceTotal():\n",
    "    return random.randint(1, 6) + random.randint(1, 6)"
   ]
  },
  {
   "cell_type": "code",
   "execution_count": 86,
   "metadata": {},
   "outputs": [],
   "source": [
    "def getFormat(word):\n",
    "    return \" \" * (12 - len(word)) + word"
   ]
  },
  {
   "cell_type": "code",
   "execution_count": 87,
   "metadata": {},
   "outputs": [],
   "source": [
    "def getTableRow(v1, v2, v3):\n",
    "    return getFormat(v1) + getFormat(v2) + getFormat(v3)"
   ]
  },
  {
   "cell_type": "code",
   "execution_count": 88,
   "metadata": {},
   "outputs": [],
   "source": [
    "def printAsTable(myDict):\n",
    "    print(getTableRow('Total', 'Simulated', 'Expected'))\n",
    "    print(getTableRow('', 'Percent', 'Percent'))\n",
    "\n",
    "    for i in myDict:\n",
    "        print(getTableRow(str(i), str(myDict[i][0] / 10), str(myDict[i][1])))"
   ]
  },
  {
   "cell_type": "code",
   "execution_count": 89,
   "metadata": {},
   "outputs": [],
   "source": [
    "def fillDict(myDict):\n",
    "    for i in range(11):\n",
    "        if (i < 5):\n",
    "            myDict[i + 2] = [0, round((i + 1) * 2.78, 2)]\n",
    "        else:\n",
    "            myDict[i + 2] = [0, round((11 - i) * 2.78, 4)]"
   ]
  },
  {
   "cell_type": "code",
   "execution_count": 90,
   "metadata": {},
   "outputs": [
    {
     "name": "stdout",
     "output_type": "stream",
     "text": [
      "       Total   Simulated    Expected\n",
      "                 Percent     Percent\n",
      "           2         2.4        2.78\n",
      "           3         6.6        5.56\n",
      "           4         9.3        8.34\n",
      "           5        11.8       11.12\n",
      "           6        12.7        13.9\n",
      "           7        14.8       16.68\n",
      "           8        13.8        13.9\n",
      "           9        12.0       11.12\n",
      "          10         8.7        8.34\n",
      "          11         4.1        5.56\n",
      "          12         3.8        2.78\n"
     ]
    }
   ],
   "source": [
    "myDict = {}\n",
    "fillDict(myDict)\n",
    "for i in range(1000):\n",
    "    myDict[getDiceTotal()][0] += 1\n",
    "\n",
    "printAsTable(myDict)"
   ]
  },
  {
   "cell_type": "code",
   "execution_count": 95,
   "metadata": {},
   "outputs": [
    {
     "name": "stdout",
     "output_type": "stream",
     "text": [
      "Hello, World!\n",
      "4433555555666110966677755531111\n"
     ]
    }
   ],
   "source": [
    "myDict = {\n",
    "    '.,?!:' : '1',\n",
    "    'ABC' : '2',\n",
    "    'DEF' : '3',\n",
    "    'GHI' : '4',\n",
    "    'JKL' : '5',\n",
    "    'MNO' : '6',\n",
    "    'PQRS' : '7',\n",
    "    'TUV' : '8',\n",
    "    'WXYZ' : '9',\n",
    "    ' ' : '0'\n",
    "}\n",
    "\n",
    "answer = ''\n",
    "s = input().upper()\n",
    "for i in s:\n",
    "    for j in myDict:\n",
    "        if i in j:\n",
    "            answer += myDict[j] * (j.find(i) + 1)\n",
    "print(answer)"
   ]
  },
  {
   "cell_type": "code",
   "execution_count": 2,
   "metadata": {},
   "outputs": [
    {
     "name": "stdout",
     "output_type": "stream",
     "text": [
      "Hello, World!\n",
      ".... . .-.. .-.. --- .-- --- .-. .-.. -.. "
     ]
    }
   ],
   "source": [
    "myDict = { 'A':'.-',\n",
    "        'B':'-...',\n",
    "        'C':'-.-.', \n",
    "        'D':'-..', \n",
    "        'E':'.', \n",
    "        'F':'..-.', \n",
    "        'G':'--.', \n",
    "        'H':'....', \n",
    "        'I':'..', \n",
    "        'J':'.---',\n",
    "        'K':'-.-', \n",
    "        'L':'.-..',\n",
    "        'M':'--',\n",
    "        'N':'-.', \n",
    "        'O':'---', \n",
    "        'P':'.--.', \n",
    "        'Q':'--.-', \n",
    "        'R':'.-.', \n",
    "        'S':'...', \n",
    "        'T':'-', \n",
    "        'U':'..-', \n",
    "        'V':'...-', \n",
    "        'W':'.--', \n",
    "        'X':'-..-', \n",
    "        'Y':'-.--', \n",
    "        'Z':'--..', \n",
    "        '1':'.----', \n",
    "        '2':'..---', \n",
    "        '3':'...--', \n",
    "        '4':'....-', \n",
    "        '5':'.....', \n",
    "        '6':'-....', \n",
    "        '7':'--...', \n",
    "        '8':'---..', \n",
    "        '9':'----.', \n",
    "        '0':'-----'\n",
    "}\n",
    "\n",
    "s = input().upper()\n",
    "for i in s:\n",
    "    if (i in myDict):\n",
    "        print(myDict[i], end = ' ')"
   ]
  },
  {
   "cell_type": "code",
   "execution_count": 10,
   "metadata": {},
   "outputs": [
    {
     "name": "stdout",
     "output_type": "stream",
     "text": [
      "X0A1B2\n",
      "Rural and from Nunavut or NorthWest Territories\n"
     ]
    }
   ],
   "source": [
    "myDict = {\n",
    "    'A' : 'Newfoundland',\n",
    "    'B' : 'Nova Scotia',\n",
    "    'C' : 'Prince Edward Island',\n",
    "    'E' : 'New Brunswick',\n",
    "    'G' : 'Quebeck',\n",
    "    'H' : 'Quebeck',\n",
    "    'J' : 'Quebeck',\n",
    "    'K' : 'Ontario',\n",
    "    'L' : 'Ontario',\n",
    "    'M' : 'Ontario',\n",
    "    'N' : 'Ontario',\n",
    "    'P' : 'Ontario',\n",
    "    'R' : 'Manitoba',\n",
    "    'S' : 'Sascatchewan',\n",
    "    'T' : 'Alberta',\n",
    "    'V' : 'British Columbia',\n",
    "    'X' : 'Nunavut or NorthWest Territories',\n",
    "    'Y' : 'Yukon'\n",
    "}\n",
    "\n",
    "s = input()\n",
    "if (s[ : : 2].isalpha() and not (s[1 : : 2].isalpha())):\n",
    "    if (s[1] == '0'):\n",
    "        print('Rural and from ' + myDict[s[0]])\n",
    "    elif (s[1] == '1'):\n",
    "        print('Urban and from ' + myDict[s[0]])\n",
    "    else:\n",
    "        print('Incorrect code')\n",
    "else:\n",
    "    print('Incorrect post code')"
   ]
  },
  {
   "cell_type": "code",
   "execution_count": 14,
   "metadata": {},
   "outputs": [
    {
     "name": "stdout",
     "output_type": "stream",
     "text": [
      "234\n",
      "two hundred thirty four\n"
     ]
    }
   ],
   "source": [
    "myDict = {\n",
    "    1 : 'one',\n",
    "    2 : 'two',\n",
    "    3 : 'three',\n",
    "    4 : 'four',\n",
    "    5 : 'five',\n",
    "    6 : 'six',\n",
    "    7 : 'seven',\n",
    "    8 : 'eight',\n",
    "    9 : 'nine',\n",
    "    10 : 'ten',\n",
    "    11: 'eleven', \n",
    "    12: 'twelve', \n",
    "    13: 'thirteen', \n",
    "    14: 'fourteen',\n",
    "    15: 'fifteen',\n",
    "    16: 'sixteen', \n",
    "    17: 'seventeen', \n",
    "    18: 'eighteen', \n",
    "    19: 'nineteen', \n",
    "    20: 'twenty', \n",
    "    30: 'thirty', \n",
    "    40: 'forty', \n",
    "    50: 'fifty', \n",
    "    60: 'sixty',\n",
    "    70: 'seventy',\n",
    "    80: 'eighty',\n",
    "    90: 'ninety', \n",
    "    0: 'zero'\n",
    "}\n",
    "\n",
    "def inWords(n):\n",
    "    if (n > 99):\n",
    "        print(myDict[int(n / 100)] + ' hundred ', end = '')\n",
    "        n = n - int(n / 100) * 100\n",
    "    try:\n",
    "        print(myDict[n])\n",
    "    except KeyError:\n",
    "        try:\n",
    "            print(myDict[n - n % 10] + ' ' + myDict[n % 10])\n",
    "        except KeyError:\n",
    "            print('Number out of range')\n",
    "\n",
    "inWords(int(input()))"
   ]
  },
  {
   "cell_type": "code",
   "execution_count": 23,
   "metadata": {},
   "outputs": [
    {
     "name": "stdout",
     "output_type": "stream",
     "text": [
      "Hello, world!\n",
      "10\n"
     ]
    }
   ],
   "source": [
    "mySet = set()\n",
    "s = input()\n",
    "for i in s:\n",
    "    mySet.add(i)\n",
    "print(len(mySet))"
   ]
  },
  {
   "cell_type": "code",
   "execution_count": 31,
   "metadata": {},
   "outputs": [],
   "source": [
    "import string\n",
    "def getDict(word):\n",
    "    myDict = dict.fromkeys(string.ascii_lowercase, 0)\n",
    "    for i in word:\n",
    "        if (i in myDict):\n",
    "            myDict[i] += 1\n",
    "    return myDict"
   ]
  },
  {
   "cell_type": "code",
   "execution_count": 29,
   "metadata": {},
   "outputs": [
    {
     "name": "stdout",
     "output_type": "stream",
     "text": [
      "evil\n",
      "live\n",
      "True\n"
     ]
    }
   ],
   "source": [
    "print(getDict(input().lower()) == getDict(input().lower()))"
   ]
  },
  {
   "cell_type": "code",
   "execution_count": 32,
   "metadata": {},
   "outputs": [
    {
     "name": "stdout",
     "output_type": "stream",
     "text": [
      "William Shakespeare\n",
      "I am a weakish speller\n",
      "True\n"
     ]
    }
   ],
   "source": [
    "print(getDict(input().lower()) == getDict(input().lower()))"
   ]
  },
  {
   "cell_type": "code",
   "execution_count": 33,
   "metadata": {},
   "outputs": [
    {
     "name": "stdout",
     "output_type": "stream",
     "text": [
      "answer\n",
      "9\n"
     ]
    }
   ],
   "source": [
    "myDict = {\n",
    "    'a' : 1,\n",
    "    'e' : 1,\n",
    "    'i' : 1,\n",
    "    'l' : 1,\n",
    "    'n' : 1,\n",
    "    'o' : 1,\n",
    "    'r' : 1,\n",
    "    's' : 1,\n",
    "    't' : 1,\n",
    "    'u' : 1,\n",
    "    'd' : 2,\n",
    "    'g' : 2,\n",
    "    'b' : 3,\n",
    "    'c' : 3,\n",
    "    'm' : 3,\n",
    "    'p' : 3,\n",
    "    'f' : 4,\n",
    "    'h' : 4,\n",
    "    'v' : 4,\n",
    "    'w' : 4,\n",
    "    'y' : 4,\n",
    "    'k' : 5,\n",
    "    'j' : 6,\n",
    "    'x' : 6,\n",
    "    'q' : 7,\n",
    "    'z' : 7,\n",
    "}\n",
    "answer = 0\n",
    "s = input().lower()\n",
    "for i in s:\n",
    "    answer += myDict[i]\n",
    "print(answer)"
   ]
  },
  {
   "cell_type": "code",
   "execution_count": 4,
   "metadata": {},
   "outputs": [],
   "source": [
    "import random\n",
    "def getBingoCardInDict():\n",
    "    myDict = {\n",
    "        'B' : [random.randint(1, 15)],\n",
    "        'I' : [random.randint(16, 30)],\n",
    "        'N' : [random.randint(31, 45)],\n",
    "        'G' : [random.randint(46, 60)],\n",
    "        'O' : [random.randint(61, 75)]\n",
    "    }\n",
    "    for i in range(4):\n",
    "        k = 1\n",
    "        for j in myDict.values():\n",
    "            j.append(random.randint(k, k + 14))\n",
    "            k += 15\n",
    "    return myDict"
   ]
  },
  {
   "cell_type": "code",
   "execution_count": 5,
   "metadata": {},
   "outputs": [],
   "source": [
    "def printBingoCard(myDict):\n",
    "    for i in myDict:\n",
    "        print(' ' + i, end = ' ')\n",
    "    print()\n",
    "    for j in range(5):\n",
    "        for i in myDict.values():\n",
    "            if (i[j] < 10):\n",
    "                print(' ' + str(i[j]), end = ' ')\n",
    "            else:\n",
    "                print(i[j], end = ' ')\n",
    "        print()"
   ]
  },
  {
   "cell_type": "code",
   "execution_count": 6,
   "metadata": {},
   "outputs": [
    {
     "name": "stdout",
     "output_type": "stream",
     "text": [
      " B  I  N  G  O \n",
      "10 28 32 53 68 \n",
      "14 25 37 48 65 \n",
      "14 24 45 53 64 \n",
      "14 20 41 51 75 \n",
      "14 26 44 46 62 \n"
     ]
    }
   ],
   "source": [
    "myDict = getBingoCardInDict()\n",
    "printBingoCard(myDict)"
   ]
  },
  {
   "cell_type": "code",
   "execution_count": 7,
   "metadata": {},
   "outputs": [],
   "source": [
    "def checkCard(myDict):\n",
    "    temp1 = 0\n",
    "    temp2 = 0\n",
    "    cnt = 0\n",
    "    for i in myDict.values():\n",
    "        if (i.count(0) == 5):\n",
    "            return True\n",
    "        \n",
    "        temp1 += i[cnt]\n",
    "        temp2 += i[4 - cnt]\n",
    "        cnt += 1\n",
    "    if (temp1 == 0 or temp2 == 0):\n",
    "        return True\n",
    "    \n",
    "    for i in range(5):\n",
    "        temp = 0\n",
    "        for j in myDict.values():\n",
    "            temp += j[i]\n",
    "        if (temp == 0):\n",
    "            return True\n",
    "    return False"
   ]
  },
  {
   "cell_type": "code",
   "execution_count": 8,
   "metadata": {},
   "outputs": [
    {
     "name": "stdout",
     "output_type": "stream",
     "text": [
      "True\n",
      "True\n",
      "True\n",
      "False\n"
     ]
    }
   ],
   "source": [
    "myDict = {\n",
    "        'B' : [0, 0, 0, 0, 0],\n",
    "        'I' : [1, 2, 3, 4, 5],\n",
    "        'N' : [1, 2, 3, 4, 5],\n",
    "        'G' : [1, 2, 3, 4, 5],\n",
    "        'O' : [1, 2, 3, 4, 5]\n",
    "}\n",
    "print(checkCard(myDict))\n",
    "myDict = {\n",
    "        'B' : [0, 2, 3, 4, 5],\n",
    "        'I' : [1, 0, 3, 4, 5],\n",
    "        'N' : [1, 2, 0, 4, 5],\n",
    "        'G' : [1, 2, 3, 0, 5],\n",
    "        'O' : [1, 2, 3, 4, 0]\n",
    "}\n",
    "print(checkCard(myDict))\n",
    "myDict = {\n",
    "        'B' : [0, 2, 3, 4, 5],\n",
    "        'I' : [0, 2, 3, 4, 5],\n",
    "        'N' : [0, 2, 3, 4, 5],\n",
    "        'G' : [0, 2, 3, 4, 5],\n",
    "        'O' : [0, 2, 3, 4, 5]\n",
    "}\n",
    "print(checkCard(myDict))\n",
    "myDict = {\n",
    "        'B' : [0, 0, 0, 0, 5],\n",
    "        'I' : [0, 0, 3, 4, 5],\n",
    "        'N' : [0, 2, 0, 4, 5],\n",
    "        'G' : [0, 2, 3, 0, 5],\n",
    "        'O' : [1, 2, 3, 4, 5]\n",
    "}\n",
    "print(checkCard(myDict))"
   ]
  },
  {
   "cell_type": "code",
   "execution_count": 9,
   "metadata": {},
   "outputs": [],
   "source": [
    "def numCross(myNum, myDict):\n",
    "    for i in myDict:\n",
    "        if (myNum in myDict[i]):\n",
    "            myDict[i][myDict[i].index(myNum)] = 0\n",
    "            return myDict\n",
    "    return myDict"
   ]
  },
  {
   "cell_type": "code",
   "execution_count": 10,
   "metadata": {},
   "outputs": [],
   "source": [
    "import random\n",
    "\n",
    "def simulateBingo(myDict, nums):\n",
    "    cnt = 0\n",
    "\n",
    "    while (not checkCard(myDict)) and len(nums) > 0:\n",
    "        myDict = numCross(nums[len(nums) - 1], myDict)\n",
    "        nums.pop()\n",
    "        cnt += 1\n",
    "    \n",
    "    return cnt"
   ]
  },
  {
   "cell_type": "code",
   "execution_count": 12,
   "metadata": {},
   "outputs": [
    {
     "name": "stdout",
     "output_type": "stream",
     "text": [
      "Max =  74\n",
      "Min =  17\n",
      "Average =  49\n"
     ]
    }
   ],
   "source": [
    "sumOfMoves = 0\n",
    "maxNum = -1\n",
    "minNum = 1000\n",
    "\n",
    "for i in range(1000):\n",
    "    myDict = getBingoCardInDict()\n",
    "    nums = list(range(1, 75))\n",
    "    random.shuffle(nums)\n",
    "    \n",
    "    numOfMoves = simulateBingo(myDict, nums)\n",
    "    \n",
    "    sumOfMoves += numOfMoves\n",
    "    maxNum = max(maxNum, numOfMoves)\n",
    "    minNum = min(minNum, numOfMoves)\n",
    "\n",
    "print('Max =', maxNum)\n",
    "print('Min =', minNum)\n",
    "print('Average =', round(sumOfMoves / 1000))"
   ]
  },
  {
   "cell_type": "code",
   "execution_count": null,
   "metadata": {},
   "outputs": [],
   "source": []
  }
 ],
 "metadata": {
  "kernelspec": {
   "display_name": "Python 3",
   "language": "python",
   "name": "python3"
  },
  "language_info": {
   "codemirror_mode": {
    "name": "ipython",
    "version": 3
   },
   "file_extension": ".py",
   "mimetype": "text/x-python",
   "name": "python",
   "nbconvert_exporter": "python",
   "pygments_lexer": "ipython3",
   "version": "3.8.3"
  }
 },
 "nbformat": 4,
 "nbformat_minor": 4
}
