{
 "cells": [
  {
   "cell_type": "code",
   "execution_count": 18,
   "metadata": {},
   "outputs": [
    {
     "name": "stdout",
     "output_type": "stream",
     "text": [
      "Codeforces\n",
      ".c.d.f.r.c.s\n"
     ]
    }
   ],
   "source": [
    "s = input()\n",
    "vowels = 'aoyeui'\n",
    "s = s.lower();\n",
    "for i in s:\n",
    "    if (i in vowels):\n",
    "        s = s.replace(i, '');\n",
    "for i in range(len(s)):\n",
    "    s = s[ : i * 2] + '.' + s[i * 2 : ]\n",
    "print(s)"
   ]
  },
  {
   "cell_type": "code",
   "execution_count": 22,
   "metadata": {},
   "outputs": [
    {
     "name": "stdout",
     "output_type": "stream",
     "text": [
      "1+1+3+1+3\n",
      "1+1+1+3+3\n"
     ]
    }
   ],
   "source": [
    "s = input()\n",
    "num = []\n",
    "for i in s.split('+'):\n",
    "    num.append(i)\n",
    "num.sort()\n",
    "answer = num[0]\n",
    "for i in range(len(num) - 1):\n",
    "    answer += '+' + num[i + 1]\n",
    "print(answer)"
   ]
  },
  {
   "cell_type": "code",
   "execution_count": 24,
   "metadata": {},
   "outputs": [
    {
     "name": "stdout",
     "output_type": "stream",
     "text": [
      "isLam\n",
      "IsLam\n"
     ]
    }
   ],
   "source": [
    "s = input()\n",
    "print(s[0].capitalize() + s[1 : ])"
   ]
  },
  {
   "cell_type": "code",
   "execution_count": 28,
   "metadata": {},
   "outputs": [
    {
     "name": "stdout",
     "output_type": "stream",
     "text": [
      "1000000001\n",
      "YES\n"
     ]
    }
   ],
   "source": [
    "s = input()\n",
    "key1 = '1111111'\n",
    "key2 = '0000000'\n",
    "if (key1 in s or key2 in s):\n",
    "    print(\"YES\")\n",
    "else:\n",
    "    print(\"NO\")"
   ]
  },
  {
   "cell_type": "code",
   "execution_count": 38,
   "metadata": {},
   "outputs": [
    {
     "name": "stdout",
     "output_type": "stream",
     "text": [
      "sevenkplus\n",
      "CHAT WITH HER!\n"
     ]
    }
   ],
   "source": [
    "s = input()\n",
    "temp = ''\n",
    "for i in s:\n",
    "    if not(i in temp):\n",
    "        temp += i\n",
    "if (len(temp) % 2 == 0):\n",
    "    print(\"CHAT WITH HER!\")\n",
    "else:\n",
    "    print(\"IGNORE HIM!\")"
   ]
  },
  {
   "cell_type": "code",
   "execution_count": 41,
   "metadata": {},
   "outputs": [
    {
     "name": "stdout",
     "output_type": "stream",
     "text": [
      "maTRIx\n",
      "matrix\n"
     ]
    }
   ],
   "source": [
    "s = input()\n",
    "cnt = 0\n",
    "for i in s:\n",
    "    if (i == i.lower()):\n",
    "       cnt += 1\n",
    "if (cnt >= len(s) / 2):\n",
    "    print(s.lower())\n",
    "else:\n",
    "    print(s.upper())"
   ]
  },
  {
   "cell_type": "code",
   "execution_count": 47,
   "metadata": {},
   "outputs": [
    {
     "name": "stdout",
     "output_type": "stream",
     "text": [
      "35 \n",
      "TheQuickBrownFoxJumpsOverTheLazyDog\n",
      "YES\n"
     ]
    }
   ],
   "source": [
    "from string import ascii_lowercase\n",
    "input()\n",
    "s = input().lower()\n",
    "temp = True\n",
    "for i in ascii_lowercase:\n",
    "    if not(i in s):\n",
    "        temp = False\n",
    "        print(\"NO\")\n",
    "        break\n",
    "if (temp):\n",
    "    print(\"YES\")"
   ]
  },
  {
   "cell_type": "code",
   "execution_count": 50,
   "metadata": {},
   "outputs": [
    {
     "name": "stdout",
     "output_type": "stream",
     "text": [
      "code\n",
      "edox\n",
      "NO\n"
     ]
    }
   ],
   "source": [
    "s1 = input()\n",
    "s2 = input()\n",
    "if (s2 == s1[ : : -1]):\n",
    "    print(\"YES\")\n",
    "else:\n",
    "    print(\"NO\")"
   ]
  },
  {
   "cell_type": "code",
   "execution_count": 54,
   "metadata": {},
   "outputs": [
    {
     "name": "stdout",
     "output_type": "stream",
     "text": [
      "ADAAAA\n",
      "Anton\n"
     ]
    }
   ],
   "source": [
    "s = input()\n",
    "a = s.count('A')\n",
    "b = s.count('B')\n",
    "if (a > b):\n",
    "    print(\"Anton\")\n",
    "elif (a < b):\n",
    "    print(\"Danik\")\n",
    "else:\n",
    "    print(\"Friendship\")"
   ]
  },
  {
   "cell_type": "code",
   "execution_count": 58,
   "metadata": {},
   "outputs": [
    {
     "name": "stdout",
     "output_type": "stream",
     "text": [
      "z\n",
      "Z\n"
     ]
    }
   ],
   "source": [
    "s = input()\n",
    "if (s[1 : ].isupper() or len(s) == 1):\n",
    "    s = s.swapcase()\n",
    "print(s)"
   ]
  },
  {
   "cell_type": "code",
   "execution_count": 62,
   "metadata": {},
   "outputs": [
    {
     "name": "stdout",
     "output_type": "stream",
     "text": [
      "10\n",
      "nznooeeoer\n",
      "1 1 0 \n"
     ]
    }
   ],
   "source": [
    "input()\n",
    "s = input()\n",
    "answer = ''\n",
    "for i in range(s.count('n')):\n",
    "    answer += '1 '\n",
    "for i in range(s.count('z')):\n",
    "    answer += '0 '\n",
    "print(answer)"
   ]
  },
  {
   "cell_type": "code",
   "execution_count": 68,
   "metadata": {},
   "outputs": [
    {
     "name": "stdout",
     "output_type": "stream",
     "text": [
      "10\n",
      "xxxxxxxxxx\n",
      "8\n"
     ]
    }
   ],
   "source": [
    "input()\n",
    "s = input()\n",
    "cnt = 0\n",
    "while ('xxx' in s):\n",
    "    cnt+=s.count('xxx')\n",
    "    s = s.replace('xxx', 'xx')\n",
    "print(cnt)"
   ]
  }
 ],
 "metadata": {
  "kernelspec": {
   "display_name": "Python 3",
   "language": "python",
   "name": "python3"
  },
  "language_info": {
   "codemirror_mode": {
    "name": "ipython",
    "version": 3
   },
   "file_extension": ".py",
   "mimetype": "text/x-python",
   "name": "python",
   "nbconvert_exporter": "python",
   "pygments_lexer": "ipython3",
   "version": "3.8.3"
  }
 },
 "nbformat": 4,
 "nbformat_minor": 4
}
