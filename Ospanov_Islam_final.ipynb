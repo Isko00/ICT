{
 "cells": [
  {
   "cell_type": "code",
   "execution_count": 6,
   "metadata": {},
   "outputs": [
    {
     "name": "stdout",
     "output_type": "stream",
     "text": [
      "10\n",
      "FFFFFFFFFF\n",
      "NO\n"
     ]
    }
   ],
   "source": [
    "n = int(input())\n",
    "s = input()\n",
    "cur = s[0]\n",
    "fToS = 0\n",
    "sToF = 0\n",
    "for i in s:\n",
    "    if (i != cur):\n",
    "        if (cur == 'S'):\n",
    "            sToF += 1\n",
    "        else:\n",
    "            fToS += 1\n",
    "    cur = i\n",
    "if (sToF > fToS):\n",
    "    print(\"YES\")\n",
    "else:\n",
    "    print(\"NO\")"
   ]
  },
  {
   "cell_type": "code",
   "execution_count": 50,
   "metadata": {},
   "outputs": [
    {
     "name": "stdout",
     "output_type": "stream",
     "text": [
      "7\n",
      "2\n"
     ]
    }
   ],
   "source": [
    "n = int(input())\n",
    "for i in range(1, n):\n",
    "    cnt = 0\n",
    "    for j in range(1, i + 1):\n",
    "        #print('    j', j, 'i', i)\n",
    "        cnt += j * (i - j + 1)\n",
    "    cnt += i - 1\n",
    "    #print('cnt', cnt, 'i', i)\n",
    "    if (cnt > n):\n",
    "        print(i - 1)\n",
    "        break"
   ]
  },
  {
   "cell_type": "code",
   "execution_count": 34,
   "metadata": {},
   "outputs": [
    {
     "name": "stdout",
     "output_type": "stream",
     "text": [
      "5\n",
      "1 2 3 4 5\n",
      "1\n",
      "5 "
     ]
    }
   ],
   "source": [
    "n = int(input())\n",
    "s = input()\n",
    "cur = 1\n",
    "max = 1\n",
    "numOfSteps = list()\n",
    "for i in s[2 : : 2]:\n",
    "    j = int(i)\n",
    "    if (j > max):\n",
    "        max = j\n",
    "    if (j == 1):\n",
    "        numOfSteps.append(max)\n",
    "        max = 1\n",
    "numOfSteps.append(int(s[-1]))\n",
    "print(len(numOfSteps))\n",
    "for i in numOfSteps:\n",
    "    print(i, end = ' ')"
   ]
  },
  {
   "cell_type": "code",
   "execution_count": 39,
   "metadata": {},
   "outputs": [
    {
     "name": "stdout",
     "output_type": "stream",
     "text": [
      "5\n",
      "7 5 6 4 8\n",
      "0\n"
     ]
    }
   ],
   "source": [
    "n = int(input())\n",
    "s = input()\n",
    "nums = list()\n",
    "x = s.split()\n",
    "for i in x:\n",
    "    nums.append(int(i))\n",
    "nums.sort()\n",
    "cnt = 0\n",
    "for i in range(len(nums) - 1):\n",
    "    cnt += nums[i + 1] - nums[i] - 1\n",
    "print(cnt)"
   ]
  },
  {
   "cell_type": "code",
   "execution_count": 42,
   "metadata": {},
   "outputs": [
    {
     "name": "stdout",
     "output_type": "stream",
     "text": [
      "2\n",
      "6 3\n",
      "YES\n",
      "7 3\n",
      "NO\n"
     ]
    }
   ],
   "source": [
    "num = int(input())\n",
    "for i in range(num):\n",
    "    s = input()\n",
    "    n = int(s[0])\n",
    "    m = int(s[-1])\n",
    "    if (n % m == 0):\n",
    "        print('YES')\n",
    "    else:\n",
    "        print('NO')"
   ]
  }
 ],
 "metadata": {
  "kernelspec": {
   "display_name": "Python 3",
   "language": "python",
   "name": "python3"
  },
  "language_info": {
   "codemirror_mode": {
    "name": "ipython",
    "version": 3
   },
   "file_extension": ".py",
   "mimetype": "text/x-python",
   "name": "python",
   "nbconvert_exporter": "python",
   "pygments_lexer": "ipython3",
   "version": "3.8.3"
  }
 },
 "nbformat": 4,
 "nbformat_minor": 4
}
